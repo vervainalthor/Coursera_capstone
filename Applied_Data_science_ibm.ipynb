{
  "nbformat": 4,
  "nbformat_minor": 0,
  "metadata": {
    "colab": {
      "name": "Applied Data science ibm.ipynb",
      "provenance": [],
      "collapsed_sections": [],
      "authorship_tag": "ABX9TyMtIvOHeFsfrVdNTip8qk6C"
    },
    "kernelspec": {
      "name": "python3",
      "display_name": "Python 3"
    }
  },
  "cells": [
    {
      "cell_type": "markdown",
      "metadata": {
        "id": "8I7uv7Keyzux",
        "colab_type": "text"
      },
      "source": [
        "# Coursera Capstone\n",
        "This notebook is the first assignment for the applied data science capstone project\n"
      ]
    },
    {
      "cell_type": "code",
      "metadata": {
        "id": "pAz5HUYUudf4",
        "colab_type": "code",
        "colab": {
          "base_uri": "https://localhost:8080/",
          "height": 34
        },
        "outputId": "7257cae9-e421-4b6e-f8e2-0924f6784a9f"
      },
      "source": [
        "import pandas as pd\n",
        "import numpy as np\n",
        "print('Hello Capstone Project Course!')"
      ],
      "execution_count": 1,
      "outputs": [
        {
          "output_type": "stream",
          "text": [
            "Hello Capstone Project Course!\n"
          ],
          "name": "stdout"
        }
      ]
    }
  ]
}