{
  "nbformat": 4,
  "nbformat_minor": 0,
  "metadata": {
    "colab": {
      "name": "Applied Data science ibm.ipynb",
      "provenance": [],
      "authorship_tag": "ABX9TyMtIvOHeFsfrVdNTip8qk6C",
      "include_colab_link": true
    },
    "kernelspec": {
      "name": "python3",
      "display_name": "Python 3"
    }
  },
  "cells": [
    {
      "cell_type": "markdown",
      "metadata": {
        "id": "view-in-github",
        "colab_type": "text"
      },
      "source": [
        "<a href=\"https://colab.research.google.com/github/vervainalthor/Coursera_capstone/blob/master/Applied_Data_science_ibm.ipynb\" target=\"_parent\"><img src=\"https://colab.research.google.com/assets/colab-badge.svg\" alt=\"Open In Colab\"/></a>"
      ]
    },
    {
      "cell_type": "markdown",
      "metadata": {
        "id": "8I7uv7Keyzux",
        "colab_type": "text"
      },
      "source": [
        "# Coursera Capstone\n",
        "This notebook is the first assignment for the applied data science capstone project\n"
      ]
    },
    {
      "cell_type": "code",
      "metadata": {
        "id": "pAz5HUYUudf4",
        "colab_type": "code",
        "colab": {
          "base_uri": "https://localhost:8080/",
          "height": 34
        },
        "outputId": "badce1af-329e-4589-8940-6fd9cbbb604d"
      },
      "source": [
        "import pandas as pd\n",
        "import numpy as np\n",
        "print('Hello Capstone Project Course!')"
      ],
      "execution_count": 3,
      "outputs": [
        {
          "output_type": "stream",
          "text": [
            "Hello Capstone Project Course!\n"
          ],
          "name": "stdout"
        }
      ]
    }
  ]
}