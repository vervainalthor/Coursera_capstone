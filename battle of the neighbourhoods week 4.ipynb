{
  "nbformat": 4,
  "nbformat_minor": 0,
  "metadata": {
    "colab": {
      "name": "Untitled7.ipynb",
      "provenance": [],
      "authorship_tag": "ABX9TyOvKQwV7lId7BGej9t2INum",
      "include_colab_link": true
    },
    "kernelspec": {
      "name": "python3",
      "display_name": "Python 3"
    },
    "language_info": {
      "name": "python"
    }
  },
  "cells": [
    {
      "cell_type": "markdown",
      "metadata": {
        "id": "view-in-github",
        "colab_type": "text"
      },
      "source": [
        "<a href=\"https://colab.research.google.com/github/vervainalthor/Coursera_capstone/blob/master/battle%20of%20the%20neighbourhoods%20week%204.ipynb\" target=\"_parent\"><img src=\"https://colab.research.google.com/assets/colab-badge.svg\" alt=\"Open In Colab\"/></a>"
      ]
    },
    {
      "cell_type": "markdown",
      "metadata": {
        "id": "syyIQ34NOshM"
      },
      "source": [
        "# The Battle of Neighborhoods — Coursera Capstone Project\n",
        "\n",
        "# THE BUSINESS PROBLEM\n",
        "### What is the best location for salad bar in Toronto ?\n",
        "### In what Neighborhood should I open a salad bar to have the best chance of becoming profitable as soon as possible?\n"
      ]
    },
    {
      "cell_type": "markdown",
      "metadata": {
        "id": "QE_RXmFdSz-D"
      },
      "source": [
        "Bright and bustling, Toronto is a cosmopolitan city whose residents have roots across the globe. Art, food, beaches, nightlife – in Toronto, you’ve got it all. It is a destination for young talent from all over canada and the globe.\n",
        "\n",
        "The main objective of this project is to pick a profitable location for a new low calorie salad bar that focuses on young fitness enthusiasts that already show an existing commitement to fitness"
      ]
    },
    {
      "cell_type": "markdown",
      "metadata": {
        "id": "VEnO-y6yVFpr"
      },
      "source": [
        "# Data Section\n",
        "For this project we need the following data:\n",
        "\n",
        "\n",
        "1. Toronto city data that contains Borough, Neighborhoods along with there latitudes and longitudes\n",
        "\n",
        "    Data Source: Toronto location data frame from the previous week that was devloped using the toronto postal code wiki page and the geospatial data csv\n",
        "Description: This data set contains the required information. And we will use this data set to explore various neighborhoods of Toronto.\n",
        "\n",
        "\n",
        "2. Gyms in toronto.\n",
        "Since our target market is fitness lovers, setting up the buisnessn in areas saturated with fitness centres will increase the likely hood of attracting the right clientel\n",
        "\n",
        "    Data Source: Foursquare API\n",
        "Description: By using this API we will get all  Gyms in the city and narrow down neighbourhoods with the highest number of gyms and lowest number.\n",
        "\n",
        "# Approach\n",
        "## Collect the Toronto city data from the previous week's notebook.\n",
        "Using Foursquare API we will get all venues for each borough then narrow down to neighbourhoods in the borough with the highest gyms .\n",
        "\n",
        "\n",
        "## Data Visualization and some statistical analysis.\n",
        "Analyzing using Clustering (Specially K-Means):\n",
        "1. Find the best value of K\n",
        "2. Visualize the neighborhoods with a number of Gyms Restaurants.\n",
        "Compare the Neighborhoods to Find the Best Place for Starting up a Restaurant.\n",
        "Inference From these Results and related Conclusions\n"
      ]
    }
  ]
}